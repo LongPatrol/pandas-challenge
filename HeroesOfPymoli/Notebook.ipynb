{
 "cells": [
  {
   "cell_type": "code",
   "execution_count": 1,
   "metadata": {},
   "outputs": [],
   "source": [
    "import pandas as pd"
   ]
  },
  {
   "cell_type": "code",
   "execution_count": 2,
   "metadata": {},
   "outputs": [],
   "source": [
    "purchase_df = pd.read_csv(\"purchase_data.csv\")"
   ]
  },
  {
   "cell_type": "code",
   "execution_count": 3,
   "metadata": {},
   "outputs": [],
   "source": [
    "#purchase_df.head()"
   ]
  },
  {
   "cell_type": "code",
   "execution_count": 4,
   "metadata": {},
   "outputs": [],
   "source": [
    "#Total Number of Players\n",
    "players = purchase_df[\"SN\"].value_counts()\n",
    "playerTotal = len(players)\n",
    "playerTotal_df = pd.DataFrame({\"Total Players\": [playerTotal]})\n",
    "totalnum = int(playerTotal_df.iloc[0,0])\n",
    "#totalnum"
   ]
  },
  {
   "cell_type": "code",
   "execution_count": 5,
   "metadata": {},
   "outputs": [],
   "source": [
    "#Number of Unique Items\n",
    "items = purchase_df[\"Item ID\"].value_counts()\n",
    "itemTotal = len(items)\n",
    "#itemTotal"
   ]
  },
  {
   "cell_type": "code",
   "execution_count": 6,
   "metadata": {},
   "outputs": [],
   "source": [
    "totalPrice = round(purchase_df[\"Price\"].sum(), 2)\n",
    "#totalPrice\n"
   ]
  },
  {
   "cell_type": "code",
   "execution_count": 7,
   "metadata": {},
   "outputs": [],
   "source": [
    "purchases = purchase_df[\"Purchase ID\"].value_counts()\n",
    "purchaseTotal = len(purchases)\n",
    "#purchaseTotal"
   ]
  },
  {
   "cell_type": "code",
   "execution_count": 8,
   "metadata": {},
   "outputs": [],
   "source": [
    "averagePrice = round(totalPrice/purchaseTotal, 2)\n",
    "#averagePrice"
   ]
  },
  {
   "cell_type": "code",
   "execution_count": 9,
   "metadata": {},
   "outputs": [],
   "source": [
    "#Purchasing Analysis (Total)\n",
    "purchaseAnalysis_df = pd.DataFrame({\"Number of Unique Items\": [itemTotal], \"Average Purchase Price\": [averagePrice], \"Total Number of Purchases\": [purchaseTotal], \"Total Revenue\": [totalPrice]})\n",
    "#purchaseAnalysis_df"
   ]
  },
  {
   "cell_type": "code",
   "execution_count": 10,
   "metadata": {},
   "outputs": [],
   "source": [
    "#Beginning of Gender Demographics Work\n",
    "snGender_df = purchase_df[[\"SN\", \"Gender\"]]\n",
    "uniqueGenSn_df = snGender_df.drop_duplicates()\n",
    "#uniqueGenSn_df"
   ]
  },
  {
   "cell_type": "code",
   "execution_count": 11,
   "metadata": {},
   "outputs": [],
   "source": [
    "genderGroup = uniqueGenSn_df.groupby([\"Gender\"])\n",
    "gender_df = genderGroup.count()\n",
    "#gender_df"
   ]
  },
  {
   "cell_type": "code",
   "execution_count": 12,
   "metadata": {},
   "outputs": [],
   "source": [
    "percentGender = gender_df[\"SN\"]/ totalnum\n",
    "#percentGender"
   ]
  },
  {
   "cell_type": "code",
   "execution_count": 13,
   "metadata": {},
   "outputs": [],
   "source": [
    "gender_df[\"Percentage of Players\"] = percentGender\n",
    "#gender_df"
   ]
  },
  {
   "cell_type": "code",
   "execution_count": 14,
   "metadata": {},
   "outputs": [],
   "source": [
    "gender_df.rename(columns={\"SN\":\"Total Count\"}, inplace=True)\n",
    "#gender_df"
   ]
  },
  {
   "cell_type": "code",
   "execution_count": 15,
   "metadata": {},
   "outputs": [],
   "source": [
    "#Beginning of Purchasing Analysis (Gender)\n",
    "genPur_df = purchase_df[[\"Purchase ID\", \"SN\", \"Gender\", \"Price\"]]\n",
    "#genPur_df"
   ]
  },
  {
   "cell_type": "code",
   "execution_count": 16,
   "metadata": {},
   "outputs": [],
   "source": [
    "Count = genPur_df.groupby([\"Gender\"])\n",
    "Count_df = Count.count()\n",
    "#Count_df"
   ]
  },
  {
   "cell_type": "code",
   "execution_count": 17,
   "metadata": {},
   "outputs": [],
   "source": [
    "genderAnalysis_df = pd.DataFrame({\"Purchase Count\" :Count_df[\"Purchase ID\"]})\n",
    "#genderAnalysis_df"
   ]
  },
  {
   "cell_type": "code",
   "execution_count": 18,
   "metadata": {},
   "outputs": [],
   "source": [
    "avg_df = Count.mean()\n",
    "#avg_df"
   ]
  },
  {
   "cell_type": "code",
   "execution_count": 19,
   "metadata": {},
   "outputs": [],
   "source": [
    "priceAvg = avg_df[\"Price\"]\n",
    "#priceAvg"
   ]
  },
  {
   "cell_type": "code",
   "execution_count": 20,
   "metadata": {},
   "outputs": [],
   "source": [
    "sum_df = Count.sum()\n",
    "#sum_df"
   ]
  },
  {
   "cell_type": "code",
   "execution_count": 21,
   "metadata": {},
   "outputs": [],
   "source": [
    "totalPrice = sum_df[\"Price\"]\n",
    "#totalPrice"
   ]
  },
  {
   "cell_type": "code",
   "execution_count": 22,
   "metadata": {},
   "outputs": [],
   "source": [
    "personGroup = genPur_df.groupby([\"Gender\", \"SN\"])\n",
    "personGroupTotal_df = personGroup.sum()\n",
    "#personGroupTotal_df"
   ]
  },
  {
   "cell_type": "code",
   "execution_count": 23,
   "metadata": {},
   "outputs": [],
   "source": [
    "genderPers = personGroupTotal_df.groupby([\"Gender\"])\n",
    "genderPers_df = genderPers.mean()\n",
    "#genderPers_df"
   ]
  },
  {
   "cell_type": "code",
   "execution_count": 24,
   "metadata": {},
   "outputs": [],
   "source": [
    "priceAvgPers = genderPers_df[\"Price\"]\n",
    "#priceAvgPers"
   ]
  },
  {
   "cell_type": "code",
   "execution_count": 25,
   "metadata": {},
   "outputs": [],
   "source": [
    "genderAnalysis_df[\"Average Purchase Price\"] = priceAvg\n",
    "#genderAnalysis_df"
   ]
  },
  {
   "cell_type": "code",
   "execution_count": 26,
   "metadata": {},
   "outputs": [],
   "source": [
    "genderAnalysis_df[\"Total Purchase Value\"] = totalPrice\n",
    "#genderAnalysis_df"
   ]
  },
  {
   "cell_type": "code",
   "execution_count": 27,
   "metadata": {},
   "outputs": [],
   "source": [
    "genderAnalysis_df[\"Avg Total Purchase per Person\"] = priceAvgPers\n",
    "#genderAnalysis_df"
   ]
  },
  {
   "cell_type": "code",
   "execution_count": 28,
   "metadata": {},
   "outputs": [],
   "source": [
    "#Beginning of Purchasing Analysis (Age) work\n",
    "agebin = [0,10,15,20,25,30,35,40,45,100]\n",
    "agebin_names = [\"<10\", \"10-14\", \"15-19\", \"20-24\", \"25-29\", \"30-34\", \"35-39\", \"40-44\", \"45+\"]\n",
    "purchase_df[\"Age\"].max()\n",
    "purchase_df[\"Age Groups\"] = pd.cut(purchase_df[\"Age\"], agebin, labels=agebin_names, include_lowest=True)\n",
    "#purchase_df"
   ]
  },
  {
   "cell_type": "code",
   "execution_count": 29,
   "metadata": {},
   "outputs": [],
   "source": [
    "groupAge = purchase_df.groupby([\"Age Groups\"])\n",
    "ageCount_df = groupAge.count()\n",
    "#ageCount_df"
   ]
  },
  {
   "cell_type": "code",
   "execution_count": 30,
   "metadata": {},
   "outputs": [],
   "source": [
    "purCountAge = ageCount_df[\"Purchase ID\"]\n",
    "#purCountAge"
   ]
  },
  {
   "cell_type": "code",
   "execution_count": 31,
   "metadata": {},
   "outputs": [],
   "source": [
    "ageAvg_df = groupAge.mean()\n",
    "#ageAvg_df"
   ]
  },
  {
   "cell_type": "code",
   "execution_count": 32,
   "metadata": {},
   "outputs": [],
   "source": [
    "purAvgPriceAge = ageAvg_df[\"Price\"]\n",
    "#purAvgPriceAge"
   ]
  },
  {
   "cell_type": "code",
   "execution_count": 33,
   "metadata": {},
   "outputs": [],
   "source": [
    "ageSum_df = groupAge.sum()\n",
    "#ageSum_df"
   ]
  },
  {
   "cell_type": "code",
   "execution_count": 34,
   "metadata": {},
   "outputs": [],
   "source": [
    "purTotalPriceAge = ageSum_df[\"Price\"]\n",
    "#purTotalPriceAge"
   ]
  },
  {
   "cell_type": "code",
   "execution_count": 35,
   "metadata": {},
   "outputs": [],
   "source": [
    "agePersGroup = purchase_df.groupby([\"Age Groups\", \"SN\"])\n",
    "agePersGroup_df = agePersGroup.sum()\n",
    "#agePersGroup_df"
   ]
  },
  {
   "cell_type": "code",
   "execution_count": 36,
   "metadata": {},
   "outputs": [],
   "source": [
    "ageGroupByPerson = agePersGroup_df.groupby([\"Age Groups\"])\n",
    "ageGroupByPerson_df = ageGroupByPerson.mean()\n",
    "#ageGroupByPerson_df"
   ]
  },
  {
   "cell_type": "code",
   "execution_count": 37,
   "metadata": {},
   "outputs": [],
   "source": [
    "purAvgPriceAgePerson = ageGroupByPerson_df[\"Price\"]\n",
    "#purAvgPriceAgePerson"
   ]
  },
  {
   "cell_type": "code",
   "execution_count": 38,
   "metadata": {},
   "outputs": [],
   "source": [
    "ageAnalysis_df = pd.DataFrame({\"Purchase Count\" :ageCount_df[\"Purchase ID\"]})\n",
    "#ageAnalysis_df"
   ]
  },
  {
   "cell_type": "code",
   "execution_count": 39,
   "metadata": {},
   "outputs": [],
   "source": [
    "ageAnalysis_df[\"Average Purchase Price\"] = purAvgPriceAge\n",
    "#ageAnalysis_df"
   ]
  },
  {
   "cell_type": "code",
   "execution_count": 40,
   "metadata": {},
   "outputs": [],
   "source": [
    "ageAnalysis_df[\"Total Purchase Value\"] = purTotalPriceAge\n",
    "#ageAnalysis_df"
   ]
  },
  {
   "cell_type": "code",
   "execution_count": 41,
   "metadata": {},
   "outputs": [],
   "source": [
    "ageAnalysis_df[\"Avg Total Purchase per Person\"] = purAvgPriceAgePerson\n",
    "ageAnalysis_df = ageAnalysis_df.dropna()\n",
    "#ageAnalysis_df"
   ]
  },
  {
   "cell_type": "code",
   "execution_count": 42,
   "metadata": {},
   "outputs": [],
   "source": [
    "#Age Demograhpics work\n",
    "agePersonCount_df = ageGroupByPerson.count()\n",
    "#agePersonCount_df"
   ]
  },
  {
   "cell_type": "code",
   "execution_count": 43,
   "metadata": {},
   "outputs": [],
   "source": [
    "ageDemo_df = pd.DataFrame({\"Total Count\" :agePersonCount_df[\"Age\"]})\n",
    "#ageDemo_df"
   ]
  },
  {
   "cell_type": "code",
   "execution_count": 44,
   "metadata": {},
   "outputs": [],
   "source": [
    "ageDemo_df[\"Percentage of Players\"] = agePersonCount_df[\"Age\"]/totalnum\n",
    "#ageDemo_df"
   ]
  },
  {
   "cell_type": "code",
   "execution_count": 45,
   "metadata": {},
   "outputs": [],
   "source": [
    "#Top Spenders work\n",
    "playersGroup = purchase_df.groupby([\"SN\"])\n",
    "#playersGroup\n",
    "playersSum_df = playersGroup.sum()\n",
    "#playersSum_df\n"
   ]
  },
  {
   "cell_type": "code",
   "execution_count": 46,
   "metadata": {},
   "outputs": [],
   "source": [
    "playersSum_df = playersSum_df.sort_values([\"Price\"], ascending=False)\n",
    "#playersSum_df\n",
    "#playersCount_df = playersGroup.count()\n",
    "#playersCount_df\n"
   ]
  },
  {
   "cell_type": "code",
   "execution_count": 47,
   "metadata": {},
   "outputs": [],
   "source": [
    "topFive_df = playersSum_df.head(5)\n",
    "topFiveTotal_df = pd.DataFrame({\"Total Purchase Value\": topFive_df[\"Price\"]})\n",
    "#topFiveTotal_df"
   ]
  },
  {
   "cell_type": "code",
   "execution_count": 48,
   "metadata": {},
   "outputs": [],
   "source": [
    "playersCount_df = playersGroup.count()\n",
    "playersCount_df.drop(columns=[\"Age\", \"Gender\", \"Item ID\", \"Item Name\", \"Price\", \"Age Groups\"], inplace=True)\n",
    "#playersCount_df"
   ]
  },
  {
   "cell_type": "code",
   "execution_count": 49,
   "metadata": {},
   "outputs": [],
   "source": [
    "playersAverage_df = playersGroup.mean()\n",
    "playersAverage_df.drop(columns=[\"Purchase ID\", \"Age\", \"Item ID\"], inplace=True)\n",
    "#playersAverage_df"
   ]
  },
  {
   "cell_type": "code",
   "execution_count": 50,
   "metadata": {},
   "outputs": [],
   "source": [
    "topTotalMean_df = pd.merge(topFiveTotal_df, playersAverage_df, on=\"SN\", how=\"left\")\n",
    "topTotalMean_df.rename(columns={\"Price\":\"Average Purchase Price\"}, inplace=True)\n",
    "#topTotalMean_df"
   ]
  },
  {
   "cell_type": "code",
   "execution_count": 51,
   "metadata": {},
   "outputs": [],
   "source": [
    "topAnalysis_df = pd.merge(topTotalMean_df, playersCount_df, on=\"SN\", how=\"left\")\n",
    "topAnalysis_df.rename(columns={\"Purchase ID\":\"Purchase Count\"}, inplace=True)\n",
    "#topAnalysis_df"
   ]
  },
  {
   "cell_type": "code",
   "execution_count": 52,
   "metadata": {},
   "outputs": [],
   "source": [
    "#Beginning of Most Popular Items analysis\n",
    "item_group = purchase_df.groupby([\"Item ID\", \"Item Name\", \"Price\"])\n",
    "item_count_df = item_group.count()\n",
    "#item_count_df"
   ]
  },
  {
   "cell_type": "code",
   "execution_count": 53,
   "metadata": {},
   "outputs": [],
   "source": [
    "item_count_df.rename(columns={\"Purchase ID\":\"Purchase Count\"}, inplace=True)\n",
    "item_count_df.drop(columns=[\"SN\", \"Age\", \"Gender\", \"Age Groups\"], inplace=True)"
   ]
  },
  {
   "cell_type": "code",
   "execution_count": 54,
   "metadata": {},
   "outputs": [],
   "source": [
    "item_count_df = item_count_df.sort_values([\"Purchase Count\"], ascending=False)\n",
    "top_items_df = item_count_df.head(5)\n",
    "top_items_df = top_items_df.reset_index(level=[\"Item ID\", \"Item Name\", \"Price\"])\n",
    "top_items_df.rename(columns={\"Price\":\"Item Price\"}, inplace=True)\n",
    "#top_items_df"
   ]
  },
  {
   "cell_type": "code",
   "execution_count": 55,
   "metadata": {},
   "outputs": [],
   "source": [
    "#Calculate the column for the Total Purchase value of the item\n",
    "\n",
    "top_items_df[\"Total Purchase Value\"] = top_items_df[\"Item Price\"] * top_items_df[\"Purchase Count\"]\n",
    "#top_items_df"
   ]
  },
  {
   "cell_type": "code",
   "execution_count": 56,
   "metadata": {},
   "outputs": [],
   "source": [
    "#Most Profitable Items; beginning of work\n",
    "item_count_df = item_count_df.reset_index(level=[\"Item ID\", \"Item Name\", \"Price\"])"
   ]
  },
  {
   "cell_type": "code",
   "execution_count": 57,
   "metadata": {},
   "outputs": [],
   "source": [
    "item_count_df.rename(columns={\"Price\":\"Item Price\"}, inplace=True)\n",
    "item_count_df[\"Total Purchase Value\"] = item_count_df[\"Item Price\"] * item_count_df[\"Purchase Count\"]\n",
    "item_count_df = item_count_df.sort_values([\"Total Purchase Value\"], ascending=False)\n",
    "top_profit_df = item_count_df.head(5)\n",
    "#top_profit_df"
   ]
  },
  {
   "cell_type": "code",
   "execution_count": 58,
   "metadata": {},
   "outputs": [
    {
     "data": {
      "text/html": [
       "<div>\n",
       "<style scoped>\n",
       "    .dataframe tbody tr th:only-of-type {\n",
       "        vertical-align: middle;\n",
       "    }\n",
       "\n",
       "    .dataframe tbody tr th {\n",
       "        vertical-align: top;\n",
       "    }\n",
       "\n",
       "    .dataframe thead th {\n",
       "        text-align: right;\n",
       "    }\n",
       "</style>\n",
       "<table border=\"1\" class=\"dataframe\">\n",
       "  <thead>\n",
       "    <tr style=\"text-align: right;\">\n",
       "      <th></th>\n",
       "      <th>Total Players</th>\n",
       "    </tr>\n",
       "  </thead>\n",
       "  <tbody>\n",
       "    <tr>\n",
       "      <th>0</th>\n",
       "      <td>576</td>\n",
       "    </tr>\n",
       "  </tbody>\n",
       "</table>\n",
       "</div>"
      ],
      "text/plain": [
       "   Total Players\n",
       "0            576"
      ]
     },
     "metadata": {},
     "output_type": "display_data"
    }
   ],
   "source": [
    "#Display Player Count\n",
    "display(playerTotal_df)"
   ]
  },
  {
   "cell_type": "code",
   "execution_count": 59,
   "metadata": {},
   "outputs": [],
   "source": [
    "#Purchasing Analysis w/ Formatting\n",
    "purchaseAnalysis_df[\"Average Purchase Price\"] = purchaseAnalysis_df[\"Average Purchase Price\"].astype(float).map(\"${:,.2f}\".format)\n",
    "purchaseAnalysis_df[\"Total Revenue\"] = purchaseAnalysis_df[\"Total Revenue\"].astype(float).map(\"${:,.2f}\".format)\n"
   ]
  },
  {
   "cell_type": "code",
   "execution_count": 60,
   "metadata": {},
   "outputs": [
    {
     "data": {
      "text/html": [
       "<div>\n",
       "<style scoped>\n",
       "    .dataframe tbody tr th:only-of-type {\n",
       "        vertical-align: middle;\n",
       "    }\n",
       "\n",
       "    .dataframe tbody tr th {\n",
       "        vertical-align: top;\n",
       "    }\n",
       "\n",
       "    .dataframe thead th {\n",
       "        text-align: right;\n",
       "    }\n",
       "</style>\n",
       "<table border=\"1\" class=\"dataframe\">\n",
       "  <thead>\n",
       "    <tr style=\"text-align: right;\">\n",
       "      <th></th>\n",
       "      <th>Number of Unique Items</th>\n",
       "      <th>Average Purchase Price</th>\n",
       "      <th>Total Number of Purchases</th>\n",
       "      <th>Total Revenue</th>\n",
       "    </tr>\n",
       "  </thead>\n",
       "  <tbody>\n",
       "    <tr>\n",
       "      <th>0</th>\n",
       "      <td>179</td>\n",
       "      <td>$3.05</td>\n",
       "      <td>780</td>\n",
       "      <td>$2,379.77</td>\n",
       "    </tr>\n",
       "  </tbody>\n",
       "</table>\n",
       "</div>"
      ],
      "text/plain": [
       "   Number of Unique Items Average Purchase Price  Total Number of Purchases  \\\n",
       "0                     179                  $3.05                        780   \n",
       "\n",
       "  Total Revenue  \n",
       "0     $2,379.77  "
      ]
     },
     "metadata": {},
     "output_type": "display_data"
    }
   ],
   "source": [
    "#Display Purchasing Analysis(Total)\n",
    "display(purchaseAnalysis_df)"
   ]
  },
  {
   "cell_type": "code",
   "execution_count": 61,
   "metadata": {},
   "outputs": [],
   "source": [
    "#Formatting for Gender Demographics\n",
    "gender_df[\"Percentage of Players\"] = gender_df[\"Percentage of Players\"].map(\"{:,.2%}\".format)"
   ]
  },
  {
   "cell_type": "code",
   "execution_count": 62,
   "metadata": {},
   "outputs": [
    {
     "data": {
      "text/html": [
       "<div>\n",
       "<style scoped>\n",
       "    .dataframe tbody tr th:only-of-type {\n",
       "        vertical-align: middle;\n",
       "    }\n",
       "\n",
       "    .dataframe tbody tr th {\n",
       "        vertical-align: top;\n",
       "    }\n",
       "\n",
       "    .dataframe thead th {\n",
       "        text-align: right;\n",
       "    }\n",
       "</style>\n",
       "<table border=\"1\" class=\"dataframe\">\n",
       "  <thead>\n",
       "    <tr style=\"text-align: right;\">\n",
       "      <th></th>\n",
       "      <th>Total Count</th>\n",
       "      <th>Percentage of Players</th>\n",
       "    </tr>\n",
       "    <tr>\n",
       "      <th>Gender</th>\n",
       "      <th></th>\n",
       "      <th></th>\n",
       "    </tr>\n",
       "  </thead>\n",
       "  <tbody>\n",
       "    <tr>\n",
       "      <th>Female</th>\n",
       "      <td>81</td>\n",
       "      <td>14.06%</td>\n",
       "    </tr>\n",
       "    <tr>\n",
       "      <th>Male</th>\n",
       "      <td>484</td>\n",
       "      <td>84.03%</td>\n",
       "    </tr>\n",
       "    <tr>\n",
       "      <th>Other / Non-Disclosed</th>\n",
       "      <td>11</td>\n",
       "      <td>1.91%</td>\n",
       "    </tr>\n",
       "  </tbody>\n",
       "</table>\n",
       "</div>"
      ],
      "text/plain": [
       "                       Total Count Percentage of Players\n",
       "Gender                                                  \n",
       "Female                          81                14.06%\n",
       "Male                           484                84.03%\n",
       "Other / Non-Disclosed           11                 1.91%"
      ]
     },
     "metadata": {},
     "output_type": "display_data"
    }
   ],
   "source": [
    "#Display for Gender Demographics\n",
    "display(gender_df)"
   ]
  },
  {
   "cell_type": "code",
   "execution_count": 63,
   "metadata": {},
   "outputs": [],
   "source": [
    "#Formatting for Gender Analysis\n",
    "genderAnalysis_df[\"Average Purchase Price\"] = genderAnalysis_df[\"Average Purchase Price\"].astype(float).map(\"${:,.2f}\".format)\n",
    "genderAnalysis_df[\"Total Purchase Value\"] = genderAnalysis_df[\"Total Purchase Value\"].astype(float).map(\"${:,.2f}\".format)\n",
    "genderAnalysis_df[\"Avg Total Purchase per Person\"] = genderAnalysis_df[\"Avg Total Purchase per Person\"].astype(float).map(\"${:,.2f}\".format)"
   ]
  },
  {
   "cell_type": "code",
   "execution_count": 64,
   "metadata": {},
   "outputs": [
    {
     "data": {
      "text/html": [
       "<div>\n",
       "<style scoped>\n",
       "    .dataframe tbody tr th:only-of-type {\n",
       "        vertical-align: middle;\n",
       "    }\n",
       "\n",
       "    .dataframe tbody tr th {\n",
       "        vertical-align: top;\n",
       "    }\n",
       "\n",
       "    .dataframe thead th {\n",
       "        text-align: right;\n",
       "    }\n",
       "</style>\n",
       "<table border=\"1\" class=\"dataframe\">\n",
       "  <thead>\n",
       "    <tr style=\"text-align: right;\">\n",
       "      <th></th>\n",
       "      <th>Purchase Count</th>\n",
       "      <th>Average Purchase Price</th>\n",
       "      <th>Total Purchase Value</th>\n",
       "      <th>Avg Total Purchase per Person</th>\n",
       "    </tr>\n",
       "    <tr>\n",
       "      <th>Gender</th>\n",
       "      <th></th>\n",
       "      <th></th>\n",
       "      <th></th>\n",
       "      <th></th>\n",
       "    </tr>\n",
       "  </thead>\n",
       "  <tbody>\n",
       "    <tr>\n",
       "      <th>Female</th>\n",
       "      <td>113</td>\n",
       "      <td>$3.20</td>\n",
       "      <td>$361.94</td>\n",
       "      <td>$4.47</td>\n",
       "    </tr>\n",
       "    <tr>\n",
       "      <th>Male</th>\n",
       "      <td>652</td>\n",
       "      <td>$3.02</td>\n",
       "      <td>$1,967.64</td>\n",
       "      <td>$4.07</td>\n",
       "    </tr>\n",
       "    <tr>\n",
       "      <th>Other / Non-Disclosed</th>\n",
       "      <td>15</td>\n",
       "      <td>$3.35</td>\n",
       "      <td>$50.19</td>\n",
       "      <td>$4.56</td>\n",
       "    </tr>\n",
       "  </tbody>\n",
       "</table>\n",
       "</div>"
      ],
      "text/plain": [
       "                       Purchase Count Average Purchase Price  \\\n",
       "Gender                                                         \n",
       "Female                            113                  $3.20   \n",
       "Male                              652                  $3.02   \n",
       "Other / Non-Disclosed              15                  $3.35   \n",
       "\n",
       "                      Total Purchase Value Avg Total Purchase per Person  \n",
       "Gender                                                                    \n",
       "Female                             $361.94                         $4.47  \n",
       "Male                             $1,967.64                         $4.07  \n",
       "Other / Non-Disclosed               $50.19                         $4.56  "
      ]
     },
     "metadata": {},
     "output_type": "display_data"
    }
   ],
   "source": [
    "#Display for Gender Analysis\n",
    "display(genderAnalysis_df)"
   ]
  },
  {
   "cell_type": "code",
   "execution_count": 65,
   "metadata": {},
   "outputs": [],
   "source": [
    "#Formatting for Age Demographics\n",
    "ageDemo_df[\"Percentage of Players\"] = ageDemo_df[\"Percentage of Players\"].map(\"{:,.2%}\".format)"
   ]
  },
  {
   "cell_type": "code",
   "execution_count": 66,
   "metadata": {},
   "outputs": [
    {
     "data": {
      "text/html": [
       "<div>\n",
       "<style scoped>\n",
       "    .dataframe tbody tr th:only-of-type {\n",
       "        vertical-align: middle;\n",
       "    }\n",
       "\n",
       "    .dataframe tbody tr th {\n",
       "        vertical-align: top;\n",
       "    }\n",
       "\n",
       "    .dataframe thead th {\n",
       "        text-align: right;\n",
       "    }\n",
       "</style>\n",
       "<table border=\"1\" class=\"dataframe\">\n",
       "  <thead>\n",
       "    <tr style=\"text-align: right;\">\n",
       "      <th></th>\n",
       "      <th>Total Count</th>\n",
       "      <th>Percentage of Players</th>\n",
       "    </tr>\n",
       "    <tr>\n",
       "      <th>Age Groups</th>\n",
       "      <th></th>\n",
       "      <th></th>\n",
       "    </tr>\n",
       "  </thead>\n",
       "  <tbody>\n",
       "    <tr>\n",
       "      <th>&lt;10</th>\n",
       "      <td>24</td>\n",
       "      <td>4.17%</td>\n",
       "    </tr>\n",
       "    <tr>\n",
       "      <th>10-14</th>\n",
       "      <td>41</td>\n",
       "      <td>7.12%</td>\n",
       "    </tr>\n",
       "    <tr>\n",
       "      <th>15-19</th>\n",
       "      <td>150</td>\n",
       "      <td>26.04%</td>\n",
       "    </tr>\n",
       "    <tr>\n",
       "      <th>20-24</th>\n",
       "      <td>232</td>\n",
       "      <td>40.28%</td>\n",
       "    </tr>\n",
       "    <tr>\n",
       "      <th>25-29</th>\n",
       "      <td>59</td>\n",
       "      <td>10.24%</td>\n",
       "    </tr>\n",
       "    <tr>\n",
       "      <th>30-34</th>\n",
       "      <td>37</td>\n",
       "      <td>6.42%</td>\n",
       "    </tr>\n",
       "    <tr>\n",
       "      <th>35-39</th>\n",
       "      <td>26</td>\n",
       "      <td>4.51%</td>\n",
       "    </tr>\n",
       "    <tr>\n",
       "      <th>40-44</th>\n",
       "      <td>7</td>\n",
       "      <td>1.22%</td>\n",
       "    </tr>\n",
       "    <tr>\n",
       "      <th>45+</th>\n",
       "      <td>0</td>\n",
       "      <td>0.00%</td>\n",
       "    </tr>\n",
       "  </tbody>\n",
       "</table>\n",
       "</div>"
      ],
      "text/plain": [
       "            Total Count Percentage of Players\n",
       "Age Groups                                   \n",
       "<10                  24                 4.17%\n",
       "10-14                41                 7.12%\n",
       "15-19               150                26.04%\n",
       "20-24               232                40.28%\n",
       "25-29                59                10.24%\n",
       "30-34                37                 6.42%\n",
       "35-39                26                 4.51%\n",
       "40-44                 7                 1.22%\n",
       "45+                   0                 0.00%"
      ]
     },
     "metadata": {},
     "output_type": "display_data"
    }
   ],
   "source": [
    "#Display for Age Demographics\n",
    "display(ageDemo_df)"
   ]
  },
  {
   "cell_type": "code",
   "execution_count": 67,
   "metadata": {},
   "outputs": [],
   "source": [
    "#Formatting for Age Analysis\n",
    "ageAnalysis_df[\"Average Purchase Price\"] = ageAnalysis_df[\"Average Purchase Price\"].astype(float).map(\"${:,.2f}\".format)\n",
    "ageAnalysis_df[\"Total Purchase Value\"] = ageAnalysis_df[\"Total Purchase Value\"].astype(float).map(\"${:,.2f}\".format)\n",
    "ageAnalysis_df[\"Avg Total Purchase per Person\"] = ageAnalysis_df[\"Avg Total Purchase per Person\"].astype(float).map(\"${:,.2f}\".format)"
   ]
  },
  {
   "cell_type": "code",
   "execution_count": 68,
   "metadata": {},
   "outputs": [
    {
     "data": {
      "text/html": [
       "<div>\n",
       "<style scoped>\n",
       "    .dataframe tbody tr th:only-of-type {\n",
       "        vertical-align: middle;\n",
       "    }\n",
       "\n",
       "    .dataframe tbody tr th {\n",
       "        vertical-align: top;\n",
       "    }\n",
       "\n",
       "    .dataframe thead th {\n",
       "        text-align: right;\n",
       "    }\n",
       "</style>\n",
       "<table border=\"1\" class=\"dataframe\">\n",
       "  <thead>\n",
       "    <tr style=\"text-align: right;\">\n",
       "      <th></th>\n",
       "      <th>Purchase Count</th>\n",
       "      <th>Average Purchase Price</th>\n",
       "      <th>Total Purchase Value</th>\n",
       "      <th>Avg Total Purchase per Person</th>\n",
       "    </tr>\n",
       "    <tr>\n",
       "      <th>Age Groups</th>\n",
       "      <th></th>\n",
       "      <th></th>\n",
       "      <th></th>\n",
       "      <th></th>\n",
       "    </tr>\n",
       "  </thead>\n",
       "  <tbody>\n",
       "    <tr>\n",
       "      <th>&lt;10</th>\n",
       "      <td>32</td>\n",
       "      <td>$3.40</td>\n",
       "      <td>$108.96</td>\n",
       "      <td>$4.54</td>\n",
       "    </tr>\n",
       "    <tr>\n",
       "      <th>10-14</th>\n",
       "      <td>54</td>\n",
       "      <td>$2.90</td>\n",
       "      <td>$156.60</td>\n",
       "      <td>$3.82</td>\n",
       "    </tr>\n",
       "    <tr>\n",
       "      <th>15-19</th>\n",
       "      <td>200</td>\n",
       "      <td>$3.11</td>\n",
       "      <td>$621.56</td>\n",
       "      <td>$4.14</td>\n",
       "    </tr>\n",
       "    <tr>\n",
       "      <th>20-24</th>\n",
       "      <td>325</td>\n",
       "      <td>$3.02</td>\n",
       "      <td>$981.64</td>\n",
       "      <td>$4.23</td>\n",
       "    </tr>\n",
       "    <tr>\n",
       "      <th>25-29</th>\n",
       "      <td>77</td>\n",
       "      <td>$2.88</td>\n",
       "      <td>$221.42</td>\n",
       "      <td>$3.75</td>\n",
       "    </tr>\n",
       "    <tr>\n",
       "      <th>30-34</th>\n",
       "      <td>52</td>\n",
       "      <td>$2.99</td>\n",
       "      <td>$155.71</td>\n",
       "      <td>$4.21</td>\n",
       "    </tr>\n",
       "    <tr>\n",
       "      <th>35-39</th>\n",
       "      <td>33</td>\n",
       "      <td>$3.40</td>\n",
       "      <td>$112.35</td>\n",
       "      <td>$4.32</td>\n",
       "    </tr>\n",
       "    <tr>\n",
       "      <th>40-44</th>\n",
       "      <td>7</td>\n",
       "      <td>$3.08</td>\n",
       "      <td>$21.53</td>\n",
       "      <td>$3.08</td>\n",
       "    </tr>\n",
       "  </tbody>\n",
       "</table>\n",
       "</div>"
      ],
      "text/plain": [
       "            Purchase Count Average Purchase Price Total Purchase Value  \\\n",
       "Age Groups                                                               \n",
       "<10                     32                  $3.40              $108.96   \n",
       "10-14                   54                  $2.90              $156.60   \n",
       "15-19                  200                  $3.11              $621.56   \n",
       "20-24                  325                  $3.02              $981.64   \n",
       "25-29                   77                  $2.88              $221.42   \n",
       "30-34                   52                  $2.99              $155.71   \n",
       "35-39                   33                  $3.40              $112.35   \n",
       "40-44                    7                  $3.08               $21.53   \n",
       "\n",
       "           Avg Total Purchase per Person  \n",
       "Age Groups                                \n",
       "<10                                $4.54  \n",
       "10-14                              $3.82  \n",
       "15-19                              $4.14  \n",
       "20-24                              $4.23  \n",
       "25-29                              $3.75  \n",
       "30-34                              $4.21  \n",
       "35-39                              $4.32  \n",
       "40-44                              $3.08  "
      ]
     },
     "metadata": {},
     "output_type": "display_data"
    }
   ],
   "source": [
    "#Display for Age Analysis\n",
    "display(ageAnalysis_df)"
   ]
  },
  {
   "cell_type": "code",
   "execution_count": 69,
   "metadata": {},
   "outputs": [
    {
     "data": {
      "text/html": [
       "<div>\n",
       "<style scoped>\n",
       "    .dataframe tbody tr th:only-of-type {\n",
       "        vertical-align: middle;\n",
       "    }\n",
       "\n",
       "    .dataframe tbody tr th {\n",
       "        vertical-align: top;\n",
       "    }\n",
       "\n",
       "    .dataframe thead th {\n",
       "        text-align: right;\n",
       "    }\n",
       "</style>\n",
       "<table border=\"1\" class=\"dataframe\">\n",
       "  <thead>\n",
       "    <tr style=\"text-align: right;\">\n",
       "      <th></th>\n",
       "      <th>Total Purchase Value</th>\n",
       "      <th>Average Purchase Price</th>\n",
       "      <th>Purchase Count</th>\n",
       "    </tr>\n",
       "    <tr>\n",
       "      <th>SN</th>\n",
       "      <th></th>\n",
       "      <th></th>\n",
       "      <th></th>\n",
       "    </tr>\n",
       "  </thead>\n",
       "  <tbody>\n",
       "    <tr>\n",
       "      <th>Lisosia93</th>\n",
       "      <td>$18.96</td>\n",
       "      <td>$3.79</td>\n",
       "      <td>5</td>\n",
       "    </tr>\n",
       "    <tr>\n",
       "      <th>Idastidru52</th>\n",
       "      <td>$15.45</td>\n",
       "      <td>$3.86</td>\n",
       "      <td>4</td>\n",
       "    </tr>\n",
       "    <tr>\n",
       "      <th>Chamjask73</th>\n",
       "      <td>$13.83</td>\n",
       "      <td>$4.61</td>\n",
       "      <td>3</td>\n",
       "    </tr>\n",
       "    <tr>\n",
       "      <th>Iral74</th>\n",
       "      <td>$13.62</td>\n",
       "      <td>$3.40</td>\n",
       "      <td>4</td>\n",
       "    </tr>\n",
       "    <tr>\n",
       "      <th>Iskadarya95</th>\n",
       "      <td>$13.10</td>\n",
       "      <td>$4.37</td>\n",
       "      <td>3</td>\n",
       "    </tr>\n",
       "  </tbody>\n",
       "</table>\n",
       "</div>"
      ],
      "text/plain": [
       "            Total Purchase Value Average Purchase Price  Purchase Count\n",
       "SN                                                                     \n",
       "Lisosia93                 $18.96                  $3.79               5\n",
       "Idastidru52               $15.45                  $3.86               4\n",
       "Chamjask73                $13.83                  $4.61               3\n",
       "Iral74                    $13.62                  $3.40               4\n",
       "Iskadarya95               $13.10                  $4.37               3"
      ]
     },
     "metadata": {},
     "output_type": "display_data"
    }
   ],
   "source": [
    "#Formatting for Top Spenders\n",
    "topAnalysis_df[\"Average Purchase Price\"] = topAnalysis_df[\"Average Purchase Price\"].astype(float).map(\"${:,.2f}\".format)\n",
    "topAnalysis_df[\"Total Purchase Value\"] = topAnalysis_df[\"Total Purchase Value\"].astype(float).map(\"${:,.2f}\".format)\n",
    "display(topAnalysis_df)"
   ]
  },
  {
   "cell_type": "code",
   "execution_count": 70,
   "metadata": {},
   "outputs": [
    {
     "data": {
      "text/html": [
       "<div>\n",
       "<style scoped>\n",
       "    .dataframe tbody tr th:only-of-type {\n",
       "        vertical-align: middle;\n",
       "    }\n",
       "\n",
       "    .dataframe tbody tr th {\n",
       "        vertical-align: top;\n",
       "    }\n",
       "\n",
       "    .dataframe thead th {\n",
       "        text-align: right;\n",
       "    }\n",
       "</style>\n",
       "<table border=\"1\" class=\"dataframe\">\n",
       "  <thead>\n",
       "    <tr style=\"text-align: right;\">\n",
       "      <th></th>\n",
       "      <th>Item ID</th>\n",
       "      <th>Item Name</th>\n",
       "      <th>Item Price</th>\n",
       "      <th>Purchase Count</th>\n",
       "      <th>Total Purchase Value</th>\n",
       "    </tr>\n",
       "  </thead>\n",
       "  <tbody>\n",
       "    <tr>\n",
       "      <th>0</th>\n",
       "      <td>178</td>\n",
       "      <td>Oathbreaker, Last Hope of the Breaking Storm</td>\n",
       "      <td>$4.23</td>\n",
       "      <td>12</td>\n",
       "      <td>$50.76</td>\n",
       "    </tr>\n",
       "    <tr>\n",
       "      <th>1</th>\n",
       "      <td>108</td>\n",
       "      <td>Extraction, Quickblade Of Trembling Hands</td>\n",
       "      <td>$3.53</td>\n",
       "      <td>9</td>\n",
       "      <td>$31.77</td>\n",
       "    </tr>\n",
       "    <tr>\n",
       "      <th>2</th>\n",
       "      <td>145</td>\n",
       "      <td>Fiery Glass Crusader</td>\n",
       "      <td>$4.58</td>\n",
       "      <td>9</td>\n",
       "      <td>$41.22</td>\n",
       "    </tr>\n",
       "    <tr>\n",
       "      <th>3</th>\n",
       "      <td>82</td>\n",
       "      <td>Nirvana</td>\n",
       "      <td>$4.90</td>\n",
       "      <td>9</td>\n",
       "      <td>$44.10</td>\n",
       "    </tr>\n",
       "    <tr>\n",
       "      <th>4</th>\n",
       "      <td>37</td>\n",
       "      <td>Shadow Strike, Glory of Ending Hope</td>\n",
       "      <td>$3.16</td>\n",
       "      <td>8</td>\n",
       "      <td>$25.28</td>\n",
       "    </tr>\n",
       "  </tbody>\n",
       "</table>\n",
       "</div>"
      ],
      "text/plain": [
       "   Item ID                                     Item Name Item Price  \\\n",
       "0      178  Oathbreaker, Last Hope of the Breaking Storm      $4.23   \n",
       "1      108     Extraction, Quickblade Of Trembling Hands      $3.53   \n",
       "2      145                          Fiery Glass Crusader      $4.58   \n",
       "3       82                                       Nirvana      $4.90   \n",
       "4       37           Shadow Strike, Glory of Ending Hope      $3.16   \n",
       "\n",
       "   Purchase Count Total Purchase Value  \n",
       "0              12               $50.76  \n",
       "1               9               $31.77  \n",
       "2               9               $41.22  \n",
       "3               9               $44.10  \n",
       "4               8               $25.28  "
      ]
     },
     "metadata": {},
     "output_type": "display_data"
    }
   ],
   "source": [
    "#Formatting for Top Items Sold\n",
    "top_items_df[\"Item Price\"] = top_items_df[\"Item Price\"].astype(float).map(\"${:,.2f}\".format)\n",
    "top_items_df[\"Total Purchase Value\"] = top_items_df[\"Total Purchase Value\"].astype(float).map(\"${:,.2f}\".format)\n",
    "display(top_items_df)"
   ]
  },
  {
   "cell_type": "code",
   "execution_count": 71,
   "metadata": {},
   "outputs": [
    {
     "name": "stderr",
     "output_type": "stream",
     "text": [
      "<ipython-input-71-f1ea2fdafb0e>:2: SettingWithCopyWarning: \n",
      "A value is trying to be set on a copy of a slice from a DataFrame.\n",
      "Try using .loc[row_indexer,col_indexer] = value instead\n",
      "\n",
      "See the caveats in the documentation: https://pandas.pydata.org/pandas-docs/stable/user_guide/indexing.html#returning-a-view-versus-a-copy\n",
      "  top_profit_df[\"Item Price\"] = top_profit_df[\"Item Price\"].astype(float).map(\"${:,.2f}\".format)\n",
      "<ipython-input-71-f1ea2fdafb0e>:3: SettingWithCopyWarning: \n",
      "A value is trying to be set on a copy of a slice from a DataFrame.\n",
      "Try using .loc[row_indexer,col_indexer] = value instead\n",
      "\n",
      "See the caveats in the documentation: https://pandas.pydata.org/pandas-docs/stable/user_guide/indexing.html#returning-a-view-versus-a-copy\n",
      "  top_profit_df[\"Total Purchase Value\"] = top_profit_df[\"Total Purchase Value\"].astype(float).map(\"${:,.2f}\".format)\n"
     ]
    },
    {
     "data": {
      "text/html": [
       "<div>\n",
       "<style scoped>\n",
       "    .dataframe tbody tr th:only-of-type {\n",
       "        vertical-align: middle;\n",
       "    }\n",
       "\n",
       "    .dataframe tbody tr th {\n",
       "        vertical-align: top;\n",
       "    }\n",
       "\n",
       "    .dataframe thead th {\n",
       "        text-align: right;\n",
       "    }\n",
       "</style>\n",
       "<table border=\"1\" class=\"dataframe\">\n",
       "  <thead>\n",
       "    <tr style=\"text-align: right;\">\n",
       "      <th></th>\n",
       "      <th>Item ID</th>\n",
       "      <th>Item Name</th>\n",
       "      <th>Item Price</th>\n",
       "      <th>Purchase Count</th>\n",
       "      <th>Total Purchase Value</th>\n",
       "    </tr>\n",
       "  </thead>\n",
       "  <tbody>\n",
       "    <tr>\n",
       "      <th>0</th>\n",
       "      <td>178</td>\n",
       "      <td>Oathbreaker, Last Hope of the Breaking Storm</td>\n",
       "      <td>$4.23</td>\n",
       "      <td>12</td>\n",
       "      <td>$50.76</td>\n",
       "    </tr>\n",
       "    <tr>\n",
       "      <th>3</th>\n",
       "      <td>82</td>\n",
       "      <td>Nirvana</td>\n",
       "      <td>$4.90</td>\n",
       "      <td>9</td>\n",
       "      <td>$44.10</td>\n",
       "    </tr>\n",
       "    <tr>\n",
       "      <th>2</th>\n",
       "      <td>145</td>\n",
       "      <td>Fiery Glass Crusader</td>\n",
       "      <td>$4.58</td>\n",
       "      <td>9</td>\n",
       "      <td>$41.22</td>\n",
       "    </tr>\n",
       "    <tr>\n",
       "      <th>7</th>\n",
       "      <td>92</td>\n",
       "      <td>Final Critic</td>\n",
       "      <td>$4.88</td>\n",
       "      <td>8</td>\n",
       "      <td>$39.04</td>\n",
       "    </tr>\n",
       "    <tr>\n",
       "      <th>6</th>\n",
       "      <td>103</td>\n",
       "      <td>Singed Scalpel</td>\n",
       "      <td>$4.35</td>\n",
       "      <td>8</td>\n",
       "      <td>$34.80</td>\n",
       "    </tr>\n",
       "  </tbody>\n",
       "</table>\n",
       "</div>"
      ],
      "text/plain": [
       "   Item ID                                     Item Name Item Price  \\\n",
       "0      178  Oathbreaker, Last Hope of the Breaking Storm      $4.23   \n",
       "3       82                                       Nirvana      $4.90   \n",
       "2      145                          Fiery Glass Crusader      $4.58   \n",
       "7       92                                  Final Critic      $4.88   \n",
       "6      103                                Singed Scalpel      $4.35   \n",
       "\n",
       "   Purchase Count Total Purchase Value  \n",
       "0              12               $50.76  \n",
       "3               9               $44.10  \n",
       "2               9               $41.22  \n",
       "7               8               $39.04  \n",
       "6               8               $34.80  "
      ]
     },
     "metadata": {},
     "output_type": "display_data"
    }
   ],
   "source": [
    "#Formatting for Top Profitable Items Sold\n",
    "top_profit_df[\"Item Price\"] = top_profit_df[\"Item Price\"].astype(float).map(\"${:,.2f}\".format)\n",
    "top_profit_df[\"Total Purchase Value\"] = top_profit_df[\"Total Purchase Value\"].astype(float).map(\"${:,.2f}\".format)\n",
    "display(top_profit_df)"
   ]
  },
  {
   "cell_type": "code",
   "execution_count": null,
   "metadata": {},
   "outputs": [],
   "source": []
  }
 ],
 "metadata": {
  "kernelspec": {
   "display_name": "Python 3",
   "language": "python",
   "name": "python3"
  },
  "language_info": {
   "codemirror_mode": {
    "name": "ipython",
    "version": 3
   },
   "file_extension": ".py",
   "mimetype": "text/x-python",
   "name": "python",
   "nbconvert_exporter": "python",
   "pygments_lexer": "ipython3",
   "version": "3.8.3"
  }
 },
 "nbformat": 4,
 "nbformat_minor": 4
}
